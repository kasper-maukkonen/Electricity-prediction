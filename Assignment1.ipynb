{
  "cells": [
    {
      "cell_type": "code",
      "execution_count": null,
      "metadata": {
        "id": "kuQ7gyaoaI4u"
      },
      "outputs": [],
      "source": [
        "import torch\n",
        "import torch.nn as nn\n",
        "import numpy as np\n",
        "import matplotlib.pyplot as plt"
      ]
    },
    {
      "cell_type": "code",
      "execution_count": null,
      "metadata": {
        "colab": {
          "base_uri": "https://localhost:8080/",
          "height": 680
        },
        "id": "4uR9SZHVbFgP",
        "outputId": "aa1cf2fa-54dc-4ef6-a534-55f423a8adc8"
      },
      "outputs": [],
      "source": [
        "# Input data\n",
        "x = np.array([12, 16, 21, 27, 24, 10, 0, -3, -9], dtype=np.float32)\n",
        "y = np.array([72, 60, 0, 0, 46, 115, 146, 185, 265], dtype=np.float32)\n",
        "\n",
        "# Normalize the input data\n",
        "x_mean = np.mean(x)\n",
        "x_std = np.std(x)\n",
        "x_normalized = (x - x_mean) / x_std\n",
        "\n",
        "# Convert the NumPy arrays to PyTorch tensors with Float data type\n",
        "x_tensor = torch.tensor(x_normalized, dtype=torch.float32)\n",
        "y_tensor = torch.tensor(y, dtype=torch.float32)\n",
        "\n",
        "# Define a simple linear regression model\n",
        "class LinearRegressionModel(nn.Module):\n",
        "    def __init__(self):\n",
        "        super(LinearRegressionModel, self).__init__()\n",
        "        self.linear = nn.Linear(1, 1)  # One input feature and one output\n",
        "\n",
        "    def forward(self, x):\n",
        "        return self.linear(x)\n",
        "\n",
        "# Instantiate the model\n",
        "model = LinearRegressionModel()\n",
        "\n",
        "# Define a loss function (Mean Squared Error) and an optimizer (Stochastic Gradient Descent)\n",
        "criterion = nn.MSELoss()\n",
        "optimizer = torch.optim.SGD(model.parameters(), lr=0.001)  # Decreased learning rate\n",
        "\n",
        "# Training loop\n",
        "num_epochs = 1000\n",
        "for epoch in range(num_epochs):\n",
        "    # Forward pass\n",
        "    outputs = model(x_tensor.view(-1, 1))\n",
        "    loss = criterion(outputs, y_tensor.view(-1, 1))\n",
        "\n",
        "    # Backward pass and optimization\n",
        "    optimizer.zero_grad()\n",
        "    loss.backward()\n",
        "    optimizer.step()\n",
        "\n",
        "    if (epoch + 1) % 100 == 0:\n",
        "        print(f'Epoch [{epoch+1}/{num_epochs}], Loss: {loss.item():.4f}')\n",
        "\n",
        "# Get the final model's parameters\n",
        "slope, intercept = model.linear.weight.item(), model.linear.bias.item()\n",
        "print(f'Linear Model: y = {slope:.4f} * x + {intercept:.4f}')\n",
        "\n",
        "# Make predictions for a range of temperatures\n",
        "x_test = torch.linspace(-3.0, -30.0, 100)  # Generate a range of test temperatures\n",
        "x_test_normalized = (x_test - x_mean) / x_std  # Normalize the test temperatures\n",
        "predicted_costs = model(x_test_normalized.view(-1, 1)).detach().numpy()\n",
        "\n",
        "# Plot the original data and the predicted line\n",
        "plt.scatter(x, y, label='Original Data')\n",
        "plt.plot(x_test, predicted_costs, label='Predicted Line', color='red')\n",
        "plt.xlabel('Temperature (°C)')\n",
        "plt.ylabel('Electricity Cost')\n",
        "plt.title('Linear Regression for Electricity Costs')\n",
        "plt.legend()\n",
        "plt.grid(True)\n",
        "plt.show()\n",
        "\n",
        "# Make a prediction for a specific temperature\n",
        "x_specific = torch.tensor([-30.0], dtype=torch.float32)\n",
        "x_specific_normalized = (x_specific - x_mean) / x_std  # Normalize the test temperature\n",
        "predicted_cost = model(x_specific_normalized.view(-1, 1)).item()\n",
        "print(f'Predicted electricity cost for a temperature of {x_specific} is {predicted_cost:.2f} EURO')"
      ]
    }
  ],
  "metadata": {
    "colab": {
      "provenance": []
    },
    "kernelspec": {
      "display_name": "Python 3",
      "name": "python3"
    },
    "language_info": {
      "codemirror_mode": {
        "name": "ipython",
        "version": 3
      },
      "file_extension": ".py",
      "mimetype": "text/x-python",
      "name": "python",
      "nbconvert_exporter": "python",
      "pygments_lexer": "ipython3",
      "version": "3.11.7"
    }
  },
  "nbformat": 4,
  "nbformat_minor": 0
}
